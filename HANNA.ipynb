{
 "cells": [
  {
   "cell_type": "code",
   "execution_count": 1,
   "metadata": {},
   "outputs": [],
   "source": [
    "## Load the necessary libraries\n",
    "import pickle\n",
    "from utils.HANNA import HANNA\n",
    "from utils.Utils import predict, create_embedding_matrix\n",
    "from utils.Plots import plot_ln_gamma\n",
    "import torch\n",
    "import numpy as np"
   ]
  },
  {
   "cell_type": "code",
   "execution_count": 2,
   "metadata": {},
   "outputs": [],
   "source": [
    "# Paths for model and scaler\n",
    "model_path = f'Model/HANNA_Val.pt'\n",
    "scaler_path = f'Model/scalerHANNA_Val.pkl'\n",
    "# Load the model\n",
    "device = torch.device(\"cuda\" if torch.cuda.is_available() else \"cpu\")\n",
    "model = HANNA().to(device)\n",
    "model.load_state_dict(torch.load(model_path, map_location=device))\n",
    "# Set the model to evaluation mode\n",
    "model.eval()\n",
    "# Load the scaler\n",
    "with open(scaler_path, 'rb') as f:\n",
    "    scaler = pickle.load(f)"
   ]
  },
  {
   "cell_type": "code",
   "execution_count": null,
   "metadata": {},
   "outputs": [],
   "source": [
    "# Example usage with tert-butanol and water at 300 K:\n",
    "SMILES_1 = \"C(C)(C)CO\" # SMILES of component 1\n",
    "SMILES_2 = \"O\" # SMILES of component 2\n",
    "T = 300 # Temperature in K\n",
    "x1_values = np.linspace(0, 1, 200) # Vector of mole fractions of component 1\n",
    "embedding_matrix =create_embedding_matrix(SMILES_1, SMILES_2, T, device, x1_values) # Create the embedding matrix\n",
    "x_pred, ln_gammas_pred = predict(embedding_matrix, scaler, model, device) # Predict the logarithmic activity coefficients\n",
    "plot_ln_gamma(x_pred, ln_gammas_pred, T, SMILES_1, SMILES_2) # Plot the logarithmic activity coefficients\n",
    "# NOTE: The warning \"Some weights of RobertaModel were not initialized from the model checkpoint...\" is expected and can be ignored, because we are not using the pooler head of the model."
   ]
  }
 ],
 "metadata": {
  "kernelspec": {
   "display_name": "HANNA",
   "language": "python",
   "name": "python3"
  },
  "language_info": {
   "codemirror_mode": {
    "name": "ipython",
    "version": 3
   },
   "file_extension": ".py",
   "mimetype": "text/x-python",
   "name": "python",
   "nbconvert_exporter": "python",
   "pygments_lexer": "ipython3",
   "version": "3.11.3"
  }
 },
 "nbformat": 4,
 "nbformat_minor": 2
}
